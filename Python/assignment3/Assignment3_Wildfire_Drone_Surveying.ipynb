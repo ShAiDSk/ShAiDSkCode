{
  "cells": [
    {
      "cell_type": "markdown",
      "metadata": {
        "id": "OAkshFhv88Om"
      },
      "source": [
        "# Wildfire Drone Surveying\n",
        "## Description\n",
        "Imagine you are working for wildfire prevention and management. You have access to a fleet of eight drones to monitor the forest. You want to optimize your operations according to some constraints. You are limited by both the drone technology and the requirements of the surveying. \n",
        "\n",
        "You are given the following information:\n",
        "1. The list of drones\n",
        "2. The periods of surveying, divided in weeks\n",
        "  * Example: MayWeek1, MayWeek2…\n",
        "3. The number of drones needed for each week\n",
        "4. The maintenance schedule for each drone – maintenance makes the drone unavailable for that week\n",
        "\n",
        "## Requirements\n",
        "### Technological\n",
        "The drones require a periodical maintenance. The maintenance team has a fixed schedule, defined a priori and given to you as an input. While on maintenance, the drone cannot be used. Because the drones use a lithium battery, you would like to balance how much each drone is used. For example, instead of drone A being used continuously and drone B being used only a few times, you would prefer to use drone A and drone B the same amount of times as to reduce the cost of replacing batteries.\n",
        "\n",
        "### Natural\n",
        "For surveying purposes, each month of the year has a different requirement of drones – the riskier the month, the more drones you need to survey the forest properly. \n",
        "\n",
        "\n",
        "For questions on this assignment, please contact: andre.oliveira@ucalgary.ca"
      ]
    },
    {
      "cell_type": "code",
      "execution_count": null,
      "metadata": {
        "colab": {
          "base_uri": "https://localhost:8080/"
        },
        "id": "j0G4ECQs9FsX",
        "outputId": "4d6d1dda-c156-45c7-9091-078d91ef2369"
      },
      "outputs": [
        {
          "name": "stdout",
          "output_type": "stream",
          "text": [
            "Looking in indexes: https://pypi.org/simple, https://us-python.pkg.dev/colab-wheels/public/simple/\n",
            "Collecting gurobipy\n",
            "  Downloading gurobipy-10.0.0-cp38-cp38-manylinux2014_x86_64.whl (12.8 MB)\n",
            "\u001b[K     |████████████████████████████████| 12.8 MB 32.8 MB/s \n",
            "\u001b[?25hInstalling collected packages: gurobipy\n",
            "Successfully installed gurobipy-10.0.0\n",
            "Looking in indexes: https://pypi.org/simple, https://us-python.pkg.dev/colab-wheels/public/simple/\n",
            "Requirement already satisfied: matplotlib in /usr/local/lib/python3.8/dist-packages (3.2.2)\n",
            "Requirement already satisfied: pyparsing!=2.0.4,!=2.1.2,!=2.1.6,>=2.0.1 in /usr/local/lib/python3.8/dist-packages (from matplotlib) (3.0.9)\n",
            "Requirement already satisfied: kiwisolver>=1.0.1 in /usr/local/lib/python3.8/dist-packages (from matplotlib) (1.4.4)\n",
            "Requirement already satisfied: numpy>=1.11 in /usr/local/lib/python3.8/dist-packages (from matplotlib) (1.21.6)\n",
            "Requirement already satisfied: python-dateutil>=2.1 in /usr/local/lib/python3.8/dist-packages (from matplotlib) (2.8.2)\n",
            "Requirement already satisfied: cycler>=0.10 in /usr/local/lib/python3.8/dist-packages (from matplotlib) (0.11.0)\n",
            "Requirement already satisfied: six>=1.5 in /usr/local/lib/python3.8/dist-packages (from python-dateutil>=2.1->matplotlib) (1.15.0)\n"
          ]
        }
      ],
      "source": [
        "%pip install gurobipy\n",
        "%pip install matplotlib"
      ]
    },
    {
      "cell_type": "markdown",
      "metadata": {
        "id": "7gNTjwaTGQae"
      },
      "source": [
        "The `weeks` list lists the weeks by name. Note that because of how python works, the weeks are indexed from 0 to 27 instead of from 1 to 28. For more information about indexing lists in python, read [here](https://www.hackerearth.com/practice/notes/samarthbhargav/a-quick-intro-to-indexing-in-python/)."
      ]
    },
    {
      "cell_type": "code",
      "execution_count": null,
      "metadata": {
        "id": "ioruRyNd9-s_"
      },
      "outputs": [],
      "source": [
        "weeks = [\n",
        "    \"April1\", \"April2\", \"April3\", \"April4\", \n",
        "    \"May1\", \"May2\",  \"May3\",  \"May4\", \n",
        "    \"June1\", \"June2\", \"June3\", \"June4\", \n",
        "    \"July1\", \"July2\", \"July3\", \"July4\", \n",
        "    \"August1\", \"August2\", \"August3\", \"August4\", \n",
        "    \"September1\", \"September2\", \"September3\", \"September4\",\n",
        "    \"October1\", \"October2\", \"October3\", \"October4\"]\n"
      ]
    },
    {
      "cell_type": "markdown",
      "metadata": {
        "id": "UlyxXVjpGIDs"
      },
      "source": [
        "The `drones` list is a list of available drones. Note that because of how python works, the drones index inside the list go from 0 to 7 instead of from 1 to 8."
      ]
    },
    {
      "cell_type": "code",
      "execution_count": null,
      "metadata": {
        "id": "AmQPUgfn_D5X"
      },
      "outputs": [],
      "source": [
        "drones = [\"Drone1\", \"Drone2\", \"Drone3\", \"Drone4\", \"Drone5\", \"Drone6\", \"Drone7\", \"Drone8\"]"
      ]
    },
    {
      "cell_type": "markdown",
      "metadata": {
        "id": "WAHxouhNF20d"
      },
      "source": [
        "The `availabilityMatrix` links the drone with the week. Each column is a week, and each row is a drone.\n",
        "\n",
        "> Indented block\n",
        "\n"
      ]
    },
    {
      "cell_type": "code",
      "execution_count": null,
      "metadata": {
        "id": "qc1Uszws_7Eg"
      },
      "outputs": [],
      "source": [
        "availabilityMatrix = [\n",
        "#Week 0  1  2  3  4  5  6  7  8  9  10 11 12 13 14 15 16 17 18 19 20 21 22 23 24 25 26 27\n",
        "     [1, 0, 1, 1, 1, 1, 1, 1, 1, 1, 0, 1, 1, 1, 1, 1, 0, 1, 0, 0, 1, 0, 1, 0, 1, 0, 1, 0], # Drone1\n",
        "     [1, 0, 1, 0, 1, 0, 0, 1, 1, 0, 1, 0, 0, 0, 0, 1, 1, 0, 1, 1, 0, 1, 0, 1, 1, 1, 1, 0], # Drone2\n",
        "     [0, 1, 1, 1, 0, 0, 0, 0, 1, 0, 1, 1, 1, 0, 1, 1, 1, 1, 1, 0, 1, 0, 1, 0, 0, 1, 0, 1], # Drone3\n",
        "     [1, 1, 1, 1, 0, 1, 0, 1, 0, 0, 0, 0, 1, 0, 1, 1, 1, 1, 0, 1, 1, 1, 0, 0, 1, 1, 0, 0], # Drone4\n",
        "     [0, 0, 0, 1, 1, 1, 1, 0, 1, 0, 1, 1, 1, 1, 1, 1, 1, 1, 1, 0, 1, 0, 1, 0, 0, 1, 1, 1], # Drone5\n",
        "     [0, 1, 1, 1, 1, 0, 1, 0, 0, 0, 1, 0, 1, 1, 1, 0, 0, 1, 1, 1, 1, 0, 1, 1, 0, 0, 1, 1], # Drone6\n",
        "     [1, 1, 1, 0, 1, 1, 1, 0, 1, 1, 1, 1, 0, 0, 1, 0, 1, 1, 1, 1, 1, 1, 1, 1, 1, 0, 1, 0], # Drone7\n",
        "     [1, 0, 1, 1, 1, 1, 0, 0, 1, 0, 0, 1, 1, 0, 1, 1, 0, 1, 1, 1, 1, 1, 0, 1, 1, 1, 0, 1]  # Drone8\n",
        "]"
      ]
    },
    {
      "cell_type": "markdown",
      "metadata": {
        "id": "Cx9zKO2XDdTk"
      },
      "source": [
        "This `availability` dictionary allows for easy consultation. For example:\n",
        "```availability[\"Drone1\", \"May2\"]``` would return True if the drone is available for that day or False if the drone is unavailable"
      ]
    },
    {
      "cell_type": "code",
      "execution_count": null,
      "metadata": {
        "id": "1UPIrcTbDOMj"
      },
      "outputs": [],
      "source": [
        "availability = {(d, w): availabilityMatrix[j][i]\n",
        "                for i, w in enumerate(weeks)\n",
        "                for j, d in enumerate(drones)}"
      ]
    },
    {
      "cell_type": "markdown",
      "metadata": {
        "id": "AbpjBCcGFewU"
      },
      "source": [
        "The `requirementsList` shows how many drones are needed to survey each week. Note that the weeks are indexed from 0 to 27 instead of from 1 to 28."
      ]
    },
    {
      "cell_type": "code",
      "execution_count": null,
      "metadata": {
        "id": "siq_GnuGEBrz"
      },
      "outputs": [],
      "source": [
        "#              Week 0  1  2  3  4  5  6  7  8  9  10 11 12 13 14 15 16 17 18 19 20 21 22 23 24 25 26 27\n",
        "requirementsList = [6, 4, 7, 5, 6, 6, 5, 5, 6, 6, 8, 7, 7, 8, 7, 7, 6, 6, 7, 8, 8, 7, 6, 8, 6, 5, 6, 6]"
      ]
    },
    {
      "cell_type": "markdown",
      "metadata": {
        "id": "Oo1-sBdUFmI8"
      },
      "source": [
        "The `requirements` dictionay allows for easy consultation. For example: `requirements[\"May2\"]` would return 3 because that is how many drones are needed for that week."
      ]
    },
    {
      "cell_type": "code",
      "execution_count": null,
      "metadata": {
        "id": "IEbl0FCdFm1k"
      },
      "outputs": [],
      "source": [
        "\n",
        "requirements = {weeks[i]: w for i, w in enumerate(requirementsList)}"
      ]
    },
    {
      "cell_type": "markdown",
      "metadata": {
        "id": "8uQjn4tkGzA3"
      },
      "source": [
        "#Exercise 1:\n",
        "Respecting the maintenance schedule and number of drones needed for each week, make a model that optimizes the following objectives:\n",
        "1. Minimize the total number of drones missing for survey. For example, if in May2 you needed 5 drones and you had only 3, this week you were missing 2 drones. If the next week you needed 6 drones and you had 3, you were missing another 3, for a total of 5.\n",
        "2. Minimize the difference between the maximum and minimum number of weeks of operation among all drones.\n",
        "\n",
        "For this exercise, show the following:\n",
        "1. For each week, print a string in the following format:\n",
        "  * {Week name}: {Number of drones used}/{Number of drones needed}\n",
        "  * If it helps debugging your code, you can also print which drones are allocated for each week.\n",
        "2. Print the most used drone and the least used drone, along the number of times they were used.\n",
        "\n",
        "\n",
        "HINT: To set multiple objectives, use: model.setObjectiveN(...., index=0, weight=, name='...')\n"
      ]
    },
    {
      "cell_type": "code",
      "execution_count": null,
      "metadata": {
        "colab": {
          "base_uri": "https://localhost:8080/"
        },
        "id": "ttHaGfxxG0Gd",
        "outputId": "d48c019d-3f2e-4e72-f0ae-e3afcb2c4859"
      },
      "outputs": [
        {
          "name": "stdout",
          "output_type": "stream",
          "text": [
            "Restricted license - for non-production use only - expires 2024-10-28\n"
          ]
        }
      ],
      "source": [
        "import gurobipy as gp\n",
        "from gurobipy import GRB\n",
        "\n",
        "model = gp.Model(\"Drone Scheduling Exercise 1\")\n",
        "\n",
        "# Implement your model here\n",
        "\n",
        "#adding variables\n",
        "drones_used = model.addVars(drones, vtype=GRB.BINARY, name=\"Drones Used\")\n"
      ]
    },
    {
      "cell_type": "markdown",
      "metadata": {
        "id": "9NRcNIF8dibg"
      },
      "source": [
        "#Exercise 2:\n",
        "Imagine now you are allowed to also choose when each drone will have maintenance (where the 0 go in the availability matrix). However, each drone must have a minimum number of maintenances. \n",
        "There are a total of 28 weeks. You can choose which week each drone will be in maintenance. Start with 2 weeks of maintenance per drone (two 0 in each row in the availability matrix) and iterate all the way to 14 in steps of size 1.\n",
        "\n",
        "For this exercise, show the following:\n",
        "1. Plot a graph where the x-axis is the number of maintenances per drone over the period, going from 2 to 14, and the y-axis has two values, the total number of missing and the difference between how many times the most and least used drones were used."
      ]
    },
    {
      "cell_type": "code",
      "execution_count": null,
      "metadata": {
        "id": "DQ6RuWLefypL"
      },
      "outputs": [],
      "source": [
        "import gurobipy as gp\n",
        "from gurobipy import GRB\n",
        "\n",
        "model = gp.Model(\"Drone Scheduling Exercise 2\")\n",
        "\n",
        "# Implement your model here"
      ]
    },
    {
      "cell_type": "markdown",
      "metadata": {
        "id": "sbrHStUPf3gj"
      },
      "source": [
        "#Exercise 3:\n",
        "Instead of forcing the drones to go through maintenance a certain number of times during the entire period, in this exercise you should try to optimize it.\n",
        "In this exercise, you will also define when each drone goes through maintenance. However, instead of fixing a number of times you need to maximize the number of times as an optimization objective.\n",
        "\n",
        "For this exercise, show the following:\n",
        "1. Change your model to optimize the number of maintenances.\n",
        "2. Iterate through the values for weights given in the exercise. The weights are as follows: `i` is the weight of the objective to minimize the total number of drone-weeks missed, `j` is the weight of the objective to minimize the difference between the number of max and min worked drones, and `k` is the weight of the objective to maximize the number of maintenance weeks. For your convenience, the code snippet has the weights in a data structure for easy iteration.\n",
        "\n",
        "Answer the following questions:\n",
        "  1. Is there any combination of weights that results in 0 total drone-weeks missed and 0 imbalance of drone usage? If yes, which weights?\n",
        "  2. What is the highest number of maintenances that still allows for 0 total drone-weeks missed?\n",
        "  3. What is the highest number of maintenances that still allows for 0 imbalance of drone usage?"
      ]
    },
    {
      "cell_type": "code",
      "execution_count": null,
      "metadata": {
        "id": "yvtdNEsChOUk"
      },
      "outputs": [],
      "source": [
        "import gurobipy as gp\n",
        "from gurobipy import GRB\n",
        "\n",
        "weights = [\n",
        "    (0.0, 0.0, 1.0),\n",
        "    (0.05, 0.05, 0.9),\n",
        "    (0.1, 0.1, 0.8),\n",
        "    (0.15, 0.15, 0.7),\n",
        "    (0.2, 0.2, 0.6),\n",
        "    (0.25, 0.25, 0.5),\n",
        "    (0.3, 0.3, 0.4),\n",
        "    (0.35, 0.35, 0.3),\n",
        "    (0.4, 0.4, 0.2),\n",
        "    (0.45, 0.45, 0.1),\n",
        "    (0.5, 0.5, 0.0)]\n",
        "for i, j, k in weights:\n",
        "  model = gp.Model(\"Drone Scheduling Exercise 3\")\n",
        "  # Implement your model here"
      ]
    }
  ],
  "metadata": {
    "colab": {
      "provenance": []
    },
    "kernelspec": {
      "display_name": "Python 3",
      "language": "python",
      "name": "python3"
    },
    "language_info": {
      "name": "python",
      "version": "3.10.5 (tags/v3.10.5:f377153, Jun  6 2022, 16:14:13) [MSC v.1929 64 bit (AMD64)]"
    },
    "vscode": {
      "interpreter": {
        "hash": "0c7b49db7b09ae2ebb25de2845a1ed146d1cb40296d3b447031dfc42b4affdf9"
      }
    }
  },
  "nbformat": 4,
  "nbformat_minor": 0
}
